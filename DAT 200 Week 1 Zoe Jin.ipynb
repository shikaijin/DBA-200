{
 "cells": [
  {
   "cell_type": "code",
   "execution_count": 10,
   "metadata": {},
   "outputs": [],
   "source": [
    "import scipy.stats"
   ]
  },
  {
   "cell_type": "code",
   "execution_count": 11,
   "metadata": {},
   "outputs": [
    {
     "name": "stdout",
     "output_type": "stream",
     "text": [
      "probability that the variable is greater than 120: 0.15865525393145707\n"
     ]
    }
   ],
   "source": [
    "a=scipy.stats.norm.sf(120,100,20)\n",
    "print(\"probability that the variable is greater than 120:\", a)"
   ]
  },
  {
   "cell_type": "code",
   "execution_count": 12,
   "metadata": {},
   "outputs": [
    {
     "name": "stdout",
     "output_type": "stream",
     "text": [
      "probability that the variable is less than or equal to 95: 0.4012936743170763\n"
     ]
    }
   ],
   "source": [
    "b=scipy.stats.norm.cdf(95,100,20)\n",
    "print (\"probability that the variable is less than or equal to 95:\", b)"
   ]
  },
  {
   "cell_type": "code",
   "execution_count": 13,
   "metadata": {},
   "outputs": [
    {
     "name": "stdout",
     "output_type": "stream",
     "text": [
      "probability that the variable is greater than 1.96: 0.024997895148220435\n"
     ]
    }
   ],
   "source": [
    "c=scipy.stats.norm.sf(1.96,0,1)\n",
    "print(\"probability that the variable is greater than 1.96:\", c)"
   ]
  },
  {
   "cell_type": "code",
   "execution_count": 14,
   "metadata": {},
   "outputs": [
    {
     "name": "stdout",
     "output_type": "stream",
     "text": [
      "probability that the variable is less than or equal to 1.96: 0.9750021048517795\n"
     ]
    }
   ],
   "source": [
    "d=scipy.stats.norm.cdf(1.96,0,1)\n",
    "print (\"probability that the variable is less than or equal to 1.96:\", d)"
   ]
  },
  {
   "cell_type": "code",
   "execution_count": 15,
   "metadata": {},
   "outputs": [
    {
     "name": "stdout",
     "output_type": "stream",
     "text": [
      "probability that the variable is between 1.96 and 2.10: 0.0071334745854039205\n"
     ]
    }
   ],
   "source": [
    "e=scipy.stats.norm.cdf(2.10,0,1)-scipy.stats.norm.cdf(1.96,0,1)\n",
    "print (\"probability that the variable is between 1.96 and 2.10:\",e)"
   ]
  },
  {
   "cell_type": "code",
   "execution_count": 16,
   "metadata": {},
   "outputs": [
    {
     "name": "stdout",
     "output_type": "stream",
     "text": [
      "probability that the variable is between -2.08 and 2.08: 0.9624744671301244\n"
     ]
    }
   ],
   "source": [
    "f=scipy.stats.norm.cdf(2.08,0,1)-scipy.stats.norm.cdf(-2.08,0,1)\n",
    "print (\"probability that the variable is between -2.08 and 2.08:\",f)"
   ]
  },
  {
   "cell_type": "code",
   "execution_count": null,
   "metadata": {},
   "outputs": [],
   "source": []
  }
 ],
 "metadata": {
  "kernelspec": {
   "display_name": "Python 3",
   "language": "python",
   "name": "python3"
  },
  "language_info": {
   "codemirror_mode": {
    "name": "ipython",
    "version": 3
   },
   "file_extension": ".py",
   "mimetype": "text/x-python",
   "name": "python",
   "nbconvert_exporter": "python",
   "pygments_lexer": "ipython3",
   "version": "3.7.6"
  }
 },
 "nbformat": 4,
 "nbformat_minor": 4
}
