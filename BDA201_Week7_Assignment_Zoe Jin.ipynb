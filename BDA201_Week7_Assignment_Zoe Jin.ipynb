{
 "cells": [
  {
   "cell_type": "code",
   "execution_count": 2,
   "metadata": {},
   "outputs": [],
   "source": [
    "import pandas as pd\n",
    "import seaborn as sns\n",
    "import statsmodels.formula.api as smf\n",
    "import matplotlib.pyplot as plt\n",
    "from sklearn.linear_model import LinearRegression\n",
    "from sklearn import metrics\n",
    "from sklearn.model_selection  import train_test_split\n",
    "import numpy as np\n",
    "\n",
    "%matplotlib inline"
   ]
  },
  {
   "cell_type": "code",
   "execution_count": 3,
   "metadata": {},
   "outputs": [
    {
     "data": {
      "text/html": [
       "<div>\n",
       "<style scoped>\n",
       "    .dataframe tbody tr th:only-of-type {\n",
       "        vertical-align: middle;\n",
       "    }\n",
       "\n",
       "    .dataframe tbody tr th {\n",
       "        vertical-align: top;\n",
       "    }\n",
       "\n",
       "    .dataframe thead th {\n",
       "        text-align: right;\n",
       "    }\n",
       "</style>\n",
       "<table border=\"1\" class=\"dataframe\">\n",
       "  <thead>\n",
       "    <tr style=\"text-align: right;\">\n",
       "      <th></th>\n",
       "      <th>country</th>\n",
       "      <th>continent</th>\n",
       "      <th>year</th>\n",
       "      <th>lifeExp</th>\n",
       "      <th>pop</th>\n",
       "      <th>gdpPercap</th>\n",
       "    </tr>\n",
       "  </thead>\n",
       "  <tbody>\n",
       "    <tr>\n",
       "      <th>0</th>\n",
       "      <td>Afghanistan</td>\n",
       "      <td>Asia</td>\n",
       "      <td>1952</td>\n",
       "      <td>28.801</td>\n",
       "      <td>8425333</td>\n",
       "      <td>779.445314</td>\n",
       "    </tr>\n",
       "    <tr>\n",
       "      <th>1</th>\n",
       "      <td>Afghanistan</td>\n",
       "      <td>Asia</td>\n",
       "      <td>1957</td>\n",
       "      <td>30.332</td>\n",
       "      <td>9240934</td>\n",
       "      <td>820.853030</td>\n",
       "    </tr>\n",
       "    <tr>\n",
       "      <th>2</th>\n",
       "      <td>Afghanistan</td>\n",
       "      <td>Asia</td>\n",
       "      <td>1962</td>\n",
       "      <td>31.997</td>\n",
       "      <td>10267083</td>\n",
       "      <td>853.100710</td>\n",
       "    </tr>\n",
       "    <tr>\n",
       "      <th>3</th>\n",
       "      <td>Afghanistan</td>\n",
       "      <td>Asia</td>\n",
       "      <td>1967</td>\n",
       "      <td>34.020</td>\n",
       "      <td>11537966</td>\n",
       "      <td>836.197138</td>\n",
       "    </tr>\n",
       "    <tr>\n",
       "      <th>4</th>\n",
       "      <td>Afghanistan</td>\n",
       "      <td>Asia</td>\n",
       "      <td>1972</td>\n",
       "      <td>36.088</td>\n",
       "      <td>13079460</td>\n",
       "      <td>739.981106</td>\n",
       "    </tr>\n",
       "  </tbody>\n",
       "</table>\n",
       "</div>"
      ],
      "text/plain": [
       "       country continent  year  lifeExp       pop   gdpPercap\n",
       "0  Afghanistan      Asia  1952   28.801   8425333  779.445314\n",
       "1  Afghanistan      Asia  1957   30.332   9240934  820.853030\n",
       "2  Afghanistan      Asia  1962   31.997  10267083  853.100710\n",
       "3  Afghanistan      Asia  1967   34.020  11537966  836.197138\n",
       "4  Afghanistan      Asia  1972   36.088  13079460  739.981106"
      ]
     },
     "execution_count": 3,
     "metadata": {},
     "output_type": "execute_result"
    }
   ],
   "source": [
    "f = pd.read_csv('gapminder.tsv', delimiter='\\t')\n",
    "f.head()"
   ]
  },
  {
   "cell_type": "code",
   "execution_count": 4,
   "metadata": {},
   "outputs": [],
   "source": [
    "df_Europe=f[f['continent'] == 'Europe']"
   ]
  },
  {
   "cell_type": "code",
   "execution_count": 5,
   "metadata": {},
   "outputs": [
    {
     "name": "stderr",
     "output_type": "stream",
     "text": [
      "C:\\Users\\ROG\\anaconda3\\lib\\site-packages\\ipykernel_launcher.py:1: UserWarning: Boolean Series key will be reindexed to match DataFrame index.\n",
      "  \"\"\"Entry point for launching an IPython kernel.\n"
     ]
    }
   ],
   "source": [
    "df_Europe_1952=df_Europe[f['year'] == 1952]"
   ]
  },
  {
   "cell_type": "code",
   "execution_count": 6,
   "metadata": {},
   "outputs": [
    {
     "data": {
      "text/plain": [
       "64.40849999999999"
      ]
     },
     "execution_count": 6,
     "metadata": {},
     "output_type": "execute_result"
    }
   ],
   "source": [
    "df_Europe_1952['lifeExp'].mean()"
   ]
  },
  {
   "cell_type": "code",
   "execution_count": 7,
   "metadata": {},
   "outputs": [
    {
     "name": "stderr",
     "output_type": "stream",
     "text": [
      "C:\\Users\\ROG\\anaconda3\\lib\\site-packages\\ipykernel_launcher.py:1: UserWarning: Boolean Series key will be reindexed to match DataFrame index.\n",
      "  \"\"\"Entry point for launching an IPython kernel.\n"
     ]
    }
   ],
   "source": [
    "df_Europe_1957=df_Europe[f['year'] == 1957]"
   ]
  },
  {
   "cell_type": "code",
   "execution_count": 8,
   "metadata": {},
   "outputs": [
    {
     "data": {
      "text/plain": [
       "66.70306666666667"
      ]
     },
     "execution_count": 8,
     "metadata": {},
     "output_type": "execute_result"
    }
   ],
   "source": [
    "df_Europe_1957['lifeExp'].mean()"
   ]
  },
  {
   "cell_type": "code",
   "execution_count": 9,
   "metadata": {},
   "outputs": [
    {
     "name": "stderr",
     "output_type": "stream",
     "text": [
      "C:\\Users\\ROG\\anaconda3\\lib\\site-packages\\ipykernel_launcher.py:1: UserWarning: Boolean Series key will be reindexed to match DataFrame index.\n",
      "  \"\"\"Entry point for launching an IPython kernel.\n"
     ]
    }
   ],
   "source": [
    "df_Europe_2002=df_Europe[f['year'] == 2002]"
   ]
  },
  {
   "cell_type": "code",
   "execution_count": 10,
   "metadata": {},
   "outputs": [
    {
     "data": {
      "text/plain": [
       "76.70059999999998"
      ]
     },
     "execution_count": 10,
     "metadata": {},
     "output_type": "execute_result"
    }
   ],
   "source": [
    "df_Europe_2002['lifeExp'].mean()"
   ]
  },
  {
   "cell_type": "code",
   "execution_count": 11,
   "metadata": {},
   "outputs": [
    {
     "name": "stderr",
     "output_type": "stream",
     "text": [
      "C:\\Users\\ROG\\anaconda3\\lib\\site-packages\\ipykernel_launcher.py:1: UserWarning: Boolean Series key will be reindexed to match DataFrame index.\n",
      "  \"\"\"Entry point for launching an IPython kernel.\n"
     ]
    }
   ],
   "source": [
    "df_Europe_2007=df_Europe[f['year'] == 2007]"
   ]
  },
  {
   "cell_type": "code",
   "execution_count": 12,
   "metadata": {},
   "outputs": [
    {
     "data": {
      "text/plain": [
       "77.64859999999999"
      ]
     },
     "execution_count": 12,
     "metadata": {},
     "output_type": "execute_result"
    }
   ],
   "source": [
    "df_Europe_2007['lifeExp'].mean()"
   ]
  },
  {
   "cell_type": "code",
   "execution_count": 13,
   "metadata": {},
   "outputs": [],
   "source": [
    "df_Americas=f[f['continent'] == 'Americas']"
   ]
  },
  {
   "cell_type": "code",
   "execution_count": 14,
   "metadata": {},
   "outputs": [
    {
     "name": "stderr",
     "output_type": "stream",
     "text": [
      "C:\\Users\\ROG\\anaconda3\\lib\\site-packages\\ipykernel_launcher.py:1: UserWarning: Boolean Series key will be reindexed to match DataFrame index.\n",
      "  \"\"\"Entry point for launching an IPython kernel.\n"
     ]
    }
   ],
   "source": [
    "df_Americas_1952=df_Americas[f['year'] == 1952]"
   ]
  },
  {
   "cell_type": "code",
   "execution_count": 15,
   "metadata": {},
   "outputs": [
    {
     "data": {
      "text/plain": [
       "53.27983999999999"
      ]
     },
     "execution_count": 15,
     "metadata": {},
     "output_type": "execute_result"
    }
   ],
   "source": [
    "df_Americas_1952['lifeExp'].mean()"
   ]
  },
  {
   "cell_type": "code",
   "execution_count": 16,
   "metadata": {},
   "outputs": [
    {
     "name": "stderr",
     "output_type": "stream",
     "text": [
      "C:\\Users\\ROG\\anaconda3\\lib\\site-packages\\ipykernel_launcher.py:1: UserWarning: Boolean Series key will be reindexed to match DataFrame index.\n",
      "  \"\"\"Entry point for launching an IPython kernel.\n"
     ]
    }
   ],
   "source": [
    "df_Americas_1957=df_Americas[f['year'] == 1957]"
   ]
  },
  {
   "cell_type": "code",
   "execution_count": 17,
   "metadata": {},
   "outputs": [
    {
     "data": {
      "text/plain": [
       "55.96027999999999"
      ]
     },
     "execution_count": 17,
     "metadata": {},
     "output_type": "execute_result"
    }
   ],
   "source": [
    "df_Americas_1957['lifeExp'].mean()"
   ]
  },
  {
   "cell_type": "code",
   "execution_count": 18,
   "metadata": {},
   "outputs": [
    {
     "name": "stderr",
     "output_type": "stream",
     "text": [
      "C:\\Users\\ROG\\anaconda3\\lib\\site-packages\\ipykernel_launcher.py:1: UserWarning: Boolean Series key will be reindexed to match DataFrame index.\n",
      "  \"\"\"Entry point for launching an IPython kernel.\n"
     ]
    }
   ],
   "source": [
    "df_Americas_2002=df_Americas[f['year'] == 2002]"
   ]
  },
  {
   "cell_type": "code",
   "execution_count": 19,
   "metadata": {},
   "outputs": [
    {
     "data": {
      "text/plain": [
       "72.42204000000001"
      ]
     },
     "execution_count": 19,
     "metadata": {},
     "output_type": "execute_result"
    }
   ],
   "source": [
    "df_Americas_2002['lifeExp'].mean()"
   ]
  },
  {
   "cell_type": "code",
   "execution_count": 20,
   "metadata": {},
   "outputs": [
    {
     "name": "stderr",
     "output_type": "stream",
     "text": [
      "C:\\Users\\ROG\\anaconda3\\lib\\site-packages\\ipykernel_launcher.py:1: UserWarning: Boolean Series key will be reindexed to match DataFrame index.\n",
      "  \"\"\"Entry point for launching an IPython kernel.\n"
     ]
    }
   ],
   "source": [
    "df_Americas_2007=df_Americas[f['year'] == 2007]"
   ]
  },
  {
   "cell_type": "code",
   "execution_count": 21,
   "metadata": {},
   "outputs": [
    {
     "data": {
      "text/plain": [
       "73.60812000000001"
      ]
     },
     "execution_count": 21,
     "metadata": {},
     "output_type": "execute_result"
    }
   ],
   "source": [
    "df_Americas_2007['lifeExp'].mean()"
   ]
  },
  {
   "cell_type": "markdown",
   "metadata": {},
   "source": [
    "### Compare the means of life expectancy in Americas for 1952 and 1957 at 95% confidence"
   ]
  },
  {
   "cell_type": "code",
   "execution_count": 22,
   "metadata": {},
   "outputs": [
    {
     "data": {
      "text/html": [
       "<div>\n",
       "<style scoped>\n",
       "    .dataframe tbody tr th:only-of-type {\n",
       "        vertical-align: middle;\n",
       "    }\n",
       "\n",
       "    .dataframe tbody tr th {\n",
       "        vertical-align: top;\n",
       "    }\n",
       "\n",
       "    .dataframe thead th {\n",
       "        text-align: right;\n",
       "    }\n",
       "</style>\n",
       "<table border=\"1\" class=\"dataframe\">\n",
       "  <thead>\n",
       "    <tr style=\"text-align: right;\">\n",
       "      <th></th>\n",
       "      <th>year</th>\n",
       "      <th>lifeExp</th>\n",
       "      <th>pop</th>\n",
       "      <th>gdpPercap</th>\n",
       "    </tr>\n",
       "  </thead>\n",
       "  <tbody>\n",
       "    <tr>\n",
       "      <th>count</th>\n",
       "      <td>25.0</td>\n",
       "      <td>25.000000</td>\n",
       "      <td>2.500000e+01</td>\n",
       "      <td>25.000000</td>\n",
       "    </tr>\n",
       "    <tr>\n",
       "      <th>mean</th>\n",
       "      <td>1952.0</td>\n",
       "      <td>53.279840</td>\n",
       "      <td>1.380610e+07</td>\n",
       "      <td>4079.062552</td>\n",
       "    </tr>\n",
       "    <tr>\n",
       "      <th>std</th>\n",
       "      <td>0.0</td>\n",
       "      <td>9.326082</td>\n",
       "      <td>3.234163e+07</td>\n",
       "      <td>3001.727522</td>\n",
       "    </tr>\n",
       "    <tr>\n",
       "      <th>min</th>\n",
       "      <td>1952.0</td>\n",
       "      <td>37.579000</td>\n",
       "      <td>6.628500e+05</td>\n",
       "      <td>1397.717137</td>\n",
       "    </tr>\n",
       "    <tr>\n",
       "      <th>25%</th>\n",
       "      <td>1952.0</td>\n",
       "      <td>45.262000</td>\n",
       "      <td>1.555876e+06</td>\n",
       "      <td>2428.237769</td>\n",
       "    </tr>\n",
       "    <tr>\n",
       "      <th>50%</th>\n",
       "      <td>1952.0</td>\n",
       "      <td>54.745000</td>\n",
       "      <td>3.146381e+06</td>\n",
       "      <td>3048.302900</td>\n",
       "    </tr>\n",
       "    <tr>\n",
       "      <th>75%</th>\n",
       "      <td>1952.0</td>\n",
       "      <td>59.421000</td>\n",
       "      <td>8.025700e+06</td>\n",
       "      <td>3939.978789</td>\n",
       "    </tr>\n",
       "    <tr>\n",
       "      <th>max</th>\n",
       "      <td>1952.0</td>\n",
       "      <td>68.750000</td>\n",
       "      <td>1.575530e+08</td>\n",
       "      <td>13990.482080</td>\n",
       "    </tr>\n",
       "  </tbody>\n",
       "</table>\n",
       "</div>"
      ],
      "text/plain": [
       "         year    lifeExp           pop     gdpPercap\n",
       "count    25.0  25.000000  2.500000e+01     25.000000\n",
       "mean   1952.0  53.279840  1.380610e+07   4079.062552\n",
       "std       0.0   9.326082  3.234163e+07   3001.727522\n",
       "min    1952.0  37.579000  6.628500e+05   1397.717137\n",
       "25%    1952.0  45.262000  1.555876e+06   2428.237769\n",
       "50%    1952.0  54.745000  3.146381e+06   3048.302900\n",
       "75%    1952.0  59.421000  8.025700e+06   3939.978789\n",
       "max    1952.0  68.750000  1.575530e+08  13990.482080"
      ]
     },
     "execution_count": 22,
     "metadata": {},
     "output_type": "execute_result"
    }
   ],
   "source": [
    "df_Americas_1952.describe()"
   ]
  },
  {
   "cell_type": "code",
   "execution_count": 23,
   "metadata": {},
   "outputs": [
    {
     "data": {
      "text/html": [
       "<div>\n",
       "<style scoped>\n",
       "    .dataframe tbody tr th:only-of-type {\n",
       "        vertical-align: middle;\n",
       "    }\n",
       "\n",
       "    .dataframe tbody tr th {\n",
       "        vertical-align: top;\n",
       "    }\n",
       "\n",
       "    .dataframe thead th {\n",
       "        text-align: right;\n",
       "    }\n",
       "</style>\n",
       "<table border=\"1\" class=\"dataframe\">\n",
       "  <thead>\n",
       "    <tr style=\"text-align: right;\">\n",
       "      <th></th>\n",
       "      <th>year</th>\n",
       "      <th>lifeExp</th>\n",
       "      <th>pop</th>\n",
       "      <th>gdpPercap</th>\n",
       "    </tr>\n",
       "  </thead>\n",
       "  <tbody>\n",
       "    <tr>\n",
       "      <th>count</th>\n",
       "      <td>25.0</td>\n",
       "      <td>25.000000</td>\n",
       "      <td>2.500000e+01</td>\n",
       "      <td>25.000000</td>\n",
       "    </tr>\n",
       "    <tr>\n",
       "      <th>mean</th>\n",
       "      <td>1957.0</td>\n",
       "      <td>55.960280</td>\n",
       "      <td>1.547816e+07</td>\n",
       "      <td>4616.043733</td>\n",
       "    </tr>\n",
       "    <tr>\n",
       "      <th>std</th>\n",
       "      <td>0.0</td>\n",
       "      <td>9.033192</td>\n",
       "      <td>3.553706e+07</td>\n",
       "      <td>3312.381083</td>\n",
       "    </tr>\n",
       "    <tr>\n",
       "      <th>min</th>\n",
       "      <td>1957.0</td>\n",
       "      <td>40.696000</td>\n",
       "      <td>7.649000e+05</td>\n",
       "      <td>1544.402995</td>\n",
       "    </tr>\n",
       "    <tr>\n",
       "      <th>25%</th>\n",
       "      <td>1957.0</td>\n",
       "      <td>48.570000</td>\n",
       "      <td>1.770902e+06</td>\n",
       "      <td>2487.365989</td>\n",
       "    </tr>\n",
       "    <tr>\n",
       "      <th>50%</th>\n",
       "      <td>1957.0</td>\n",
       "      <td>56.074000</td>\n",
       "      <td>3.507701e+06</td>\n",
       "      <td>3780.546651</td>\n",
       "    </tr>\n",
       "    <tr>\n",
       "      <th>75%</th>\n",
       "      <td>1957.0</td>\n",
       "      <td>62.610000</td>\n",
       "      <td>9.146100e+06</td>\n",
       "      <td>4756.525781</td>\n",
       "    </tr>\n",
       "    <tr>\n",
       "      <th>max</th>\n",
       "      <td>1957.0</td>\n",
       "      <td>69.960000</td>\n",
       "      <td>1.719840e+08</td>\n",
       "      <td>14847.127120</td>\n",
       "    </tr>\n",
       "  </tbody>\n",
       "</table>\n",
       "</div>"
      ],
      "text/plain": [
       "         year    lifeExp           pop     gdpPercap\n",
       "count    25.0  25.000000  2.500000e+01     25.000000\n",
       "mean   1957.0  55.960280  1.547816e+07   4616.043733\n",
       "std       0.0   9.033192  3.553706e+07   3312.381083\n",
       "min    1957.0  40.696000  7.649000e+05   1544.402995\n",
       "25%    1957.0  48.570000  1.770902e+06   2487.365989\n",
       "50%    1957.0  56.074000  3.507701e+06   3780.546651\n",
       "75%    1957.0  62.610000  9.146100e+06   4756.525781\n",
       "max    1957.0  69.960000  1.719840e+08  14847.127120"
      ]
     },
     "execution_count": 23,
     "metadata": {},
     "output_type": "execute_result"
    }
   ],
   "source": [
    "df_Americas_1957.describe()"
   ]
  },
  {
   "cell_type": "code",
   "execution_count": 24,
   "metadata": {},
   "outputs": [
    {
     "name": "stdout",
     "output_type": "stream",
     "text": [
      "Lower -7.7698116887759205\n",
      "Xbar Diff -2.6799999999999997\n",
      "upper 2.409811688775921\n"
     ]
    }
   ],
   "source": [
    "z=1.96\n",
    "Americas1952_s=9.33\n",
    "Americas1952_n=25\n",
    "Americas1952_Xbar=53.28\n",
    "Americas1957_s=9.03\n",
    "Americas1957_n=25\n",
    "Americas1957_Xbar=55.96\n",
    "SE=np.sqrt((Americas1952_s*Americas1952_s)/Americas1952_n+(Americas1957_s*Americas1957_s)/Americas1957_n)\n",
    "Mean_Dif=Americas1952_Xbar-Americas1957_Xbar\n",
    "upper2=Mean_Dif+z*SE\n",
    "lower2=Mean_Dif-z*SE\n",
    "\n",
    "print (\"Lower\",lower2)\n",
    "print (\"Xbar Diff\", Mean_Dif)\n",
    "print (\"upper\", upper2)"
   ]
  },
  {
   "cell_type": "markdown",
   "metadata": {},
   "source": [
    "#### The confidence interval contains the value mean1-mean2= 0, whcih means it is  possible that mean1=mean 2, therefore, the means of life expectancy in Americas for 1952 and 1957 can be same."
   ]
  },
  {
   "cell_type": "markdown",
   "metadata": {},
   "source": [
    "### Compare the means of life expectancy in Americas for 2002 and 2007 at 95% confidence"
   ]
  },
  {
   "cell_type": "code",
   "execution_count": 25,
   "metadata": {},
   "outputs": [
    {
     "data": {
      "text/html": [
       "<div>\n",
       "<style scoped>\n",
       "    .dataframe tbody tr th:only-of-type {\n",
       "        vertical-align: middle;\n",
       "    }\n",
       "\n",
       "    .dataframe tbody tr th {\n",
       "        vertical-align: top;\n",
       "    }\n",
       "\n",
       "    .dataframe thead th {\n",
       "        text-align: right;\n",
       "    }\n",
       "</style>\n",
       "<table border=\"1\" class=\"dataframe\">\n",
       "  <thead>\n",
       "    <tr style=\"text-align: right;\">\n",
       "      <th></th>\n",
       "      <th>year</th>\n",
       "      <th>lifeExp</th>\n",
       "      <th>pop</th>\n",
       "      <th>gdpPercap</th>\n",
       "    </tr>\n",
       "  </thead>\n",
       "  <tbody>\n",
       "    <tr>\n",
       "      <th>count</th>\n",
       "      <td>25.0</td>\n",
       "      <td>25.000000</td>\n",
       "      <td>2.500000e+01</td>\n",
       "      <td>25.000000</td>\n",
       "    </tr>\n",
       "    <tr>\n",
       "      <th>mean</th>\n",
       "      <td>2002.0</td>\n",
       "      <td>72.422040</td>\n",
       "      <td>3.399091e+07</td>\n",
       "      <td>9287.677107</td>\n",
       "    </tr>\n",
       "    <tr>\n",
       "      <th>std</th>\n",
       "      <td>0.0</td>\n",
       "      <td>4.799705</td>\n",
       "      <td>6.560155e+07</td>\n",
       "      <td>8895.817785</td>\n",
       "    </tr>\n",
       "    <tr>\n",
       "      <th>min</th>\n",
       "      <td>2002.0</td>\n",
       "      <td>58.137000</td>\n",
       "      <td>1.101832e+06</td>\n",
       "      <td>1270.364932</td>\n",
       "    </tr>\n",
       "    <tr>\n",
       "      <th>25%</th>\n",
       "      <td>2002.0</td>\n",
       "      <td>70.734000</td>\n",
       "      <td>5.146848e+06</td>\n",
       "      <td>4858.347495</td>\n",
       "    </tr>\n",
       "    <tr>\n",
       "      <th>50%</th>\n",
       "      <td>2002.0</td>\n",
       "      <td>72.047000</td>\n",
       "      <td>8.650322e+06</td>\n",
       "      <td>6994.774861</td>\n",
       "    </tr>\n",
       "    <tr>\n",
       "      <th>75%</th>\n",
       "      <td>2002.0</td>\n",
       "      <td>75.307000</td>\n",
       "      <td>2.676944e+07</td>\n",
       "      <td>8797.640716</td>\n",
       "    </tr>\n",
       "    <tr>\n",
       "      <th>max</th>\n",
       "      <td>2002.0</td>\n",
       "      <td>79.770000</td>\n",
       "      <td>2.876755e+08</td>\n",
       "      <td>39097.099550</td>\n",
       "    </tr>\n",
       "  </tbody>\n",
       "</table>\n",
       "</div>"
      ],
      "text/plain": [
       "         year    lifeExp           pop     gdpPercap\n",
       "count    25.0  25.000000  2.500000e+01     25.000000\n",
       "mean   2002.0  72.422040  3.399091e+07   9287.677107\n",
       "std       0.0   4.799705  6.560155e+07   8895.817785\n",
       "min    2002.0  58.137000  1.101832e+06   1270.364932\n",
       "25%    2002.0  70.734000  5.146848e+06   4858.347495\n",
       "50%    2002.0  72.047000  8.650322e+06   6994.774861\n",
       "75%    2002.0  75.307000  2.676944e+07   8797.640716\n",
       "max    2002.0  79.770000  2.876755e+08  39097.099550"
      ]
     },
     "execution_count": 25,
     "metadata": {},
     "output_type": "execute_result"
    }
   ],
   "source": [
    "df_Americas_2002.describe()"
   ]
  },
  {
   "cell_type": "code",
   "execution_count": 26,
   "metadata": {},
   "outputs": [
    {
     "data": {
      "text/html": [
       "<div>\n",
       "<style scoped>\n",
       "    .dataframe tbody tr th:only-of-type {\n",
       "        vertical-align: middle;\n",
       "    }\n",
       "\n",
       "    .dataframe tbody tr th {\n",
       "        vertical-align: top;\n",
       "    }\n",
       "\n",
       "    .dataframe thead th {\n",
       "        text-align: right;\n",
       "    }\n",
       "</style>\n",
       "<table border=\"1\" class=\"dataframe\">\n",
       "  <thead>\n",
       "    <tr style=\"text-align: right;\">\n",
       "      <th></th>\n",
       "      <th>year</th>\n",
       "      <th>lifeExp</th>\n",
       "      <th>pop</th>\n",
       "      <th>gdpPercap</th>\n",
       "    </tr>\n",
       "  </thead>\n",
       "  <tbody>\n",
       "    <tr>\n",
       "      <th>count</th>\n",
       "      <td>25.0</td>\n",
       "      <td>25.000000</td>\n",
       "      <td>2.500000e+01</td>\n",
       "      <td>25.000000</td>\n",
       "    </tr>\n",
       "    <tr>\n",
       "      <th>mean</th>\n",
       "      <td>2007.0</td>\n",
       "      <td>73.608120</td>\n",
       "      <td>3.595485e+07</td>\n",
       "      <td>11003.031625</td>\n",
       "    </tr>\n",
       "    <tr>\n",
       "      <th>std</th>\n",
       "      <td>0.0</td>\n",
       "      <td>4.440948</td>\n",
       "      <td>6.883378e+07</td>\n",
       "      <td>9713.209302</td>\n",
       "    </tr>\n",
       "    <tr>\n",
       "      <th>min</th>\n",
       "      <td>2007.0</td>\n",
       "      <td>60.916000</td>\n",
       "      <td>1.056608e+06</td>\n",
       "      <td>1201.637154</td>\n",
       "    </tr>\n",
       "    <tr>\n",
       "      <th>25%</th>\n",
       "      <td>2007.0</td>\n",
       "      <td>71.752000</td>\n",
       "      <td>5.675356e+06</td>\n",
       "      <td>5728.353514</td>\n",
       "    </tr>\n",
       "    <tr>\n",
       "      <th>50%</th>\n",
       "      <td>2007.0</td>\n",
       "      <td>72.899000</td>\n",
       "      <td>9.319622e+06</td>\n",
       "      <td>8948.102923</td>\n",
       "    </tr>\n",
       "    <tr>\n",
       "      <th>75%</th>\n",
       "      <td>2007.0</td>\n",
       "      <td>76.384000</td>\n",
       "      <td>2.867476e+07</td>\n",
       "      <td>11977.574960</td>\n",
       "    </tr>\n",
       "    <tr>\n",
       "      <th>max</th>\n",
       "      <td>2007.0</td>\n",
       "      <td>80.653000</td>\n",
       "      <td>3.011399e+08</td>\n",
       "      <td>42951.653090</td>\n",
       "    </tr>\n",
       "  </tbody>\n",
       "</table>\n",
       "</div>"
      ],
      "text/plain": [
       "         year    lifeExp           pop     gdpPercap\n",
       "count    25.0  25.000000  2.500000e+01     25.000000\n",
       "mean   2007.0  73.608120  3.595485e+07  11003.031625\n",
       "std       0.0   4.440948  6.883378e+07   9713.209302\n",
       "min    2007.0  60.916000  1.056608e+06   1201.637154\n",
       "25%    2007.0  71.752000  5.675356e+06   5728.353514\n",
       "50%    2007.0  72.899000  9.319622e+06   8948.102923\n",
       "75%    2007.0  76.384000  2.867476e+07  11977.574960\n",
       "max    2007.0  80.653000  3.011399e+08  42951.653090"
      ]
     },
     "execution_count": 26,
     "metadata": {},
     "output_type": "execute_result"
    }
   ],
   "source": [
    "df_Americas_2007.describe()"
   ]
  },
  {
   "cell_type": "code",
   "execution_count": 27,
   "metadata": {},
   "outputs": [
    {
     "name": "stdout",
     "output_type": "stream",
     "text": [
      "Lower -3.7531404936912818\n",
      "Xbar Diff -1.1899999999999977\n",
      "upper 1.3731404936912863\n"
     ]
    }
   ],
   "source": [
    "z=1.96\n",
    "Americas2002_s=4.8\n",
    "Americas2002_n=25\n",
    "Americas2002_Xbar=72.42\n",
    "Americas2007_s=4.44\n",
    "Americas2007_n=25\n",
    "Americas2007_Xbar=73.61\n",
    "SE=np.sqrt((Americas2002_s*Americas2002_s)/Americas2002_n+(Americas2007_s*Americas2007_s)/Americas2007_n)\n",
    "Mean_Dif=Americas2002_Xbar-Americas2007_Xbar\n",
    "upper2=Mean_Dif+z*SE\n",
    "lower2=Mean_Dif-z*SE\n",
    "\n",
    "print (\"Lower\",lower2)\n",
    "print (\"Xbar Diff\", Mean_Dif)\n",
    "print (\"upper\", upper2)"
   ]
  },
  {
   "cell_type": "markdown",
   "metadata": {},
   "source": [
    "#### The confidence interval contains the value mean1-mean2= 0, whcih means it is  possible that mean1=mean 2, therefore, the means of life expectancy in Americas for 2002 and 2007 can be same."
   ]
  },
  {
   "cell_type": "markdown",
   "metadata": {},
   "source": [
    "### Compare the means of life expectancy in Americas for 1952 and for 2007 at 95% confidence"
   ]
  },
  {
   "cell_type": "code",
   "execution_count": 28,
   "metadata": {},
   "outputs": [
    {
     "name": "stdout",
     "output_type": "stream",
     "text": [
      "Lower -24.38037687135407\n",
      "Xbar Diff -20.33\n",
      "upper -16.279623128645927\n"
     ]
    }
   ],
   "source": [
    "z=1.96\n",
    "Americas1952_s=9.33\n",
    "Americas1952_n=25\n",
    "Americas1952_Xbar=53.28\n",
    "Americas2007_s=4.44\n",
    "Americas2007_n=25\n",
    "Americas2007_Xbar=73.61\n",
    "SE=np.sqrt((Americas1952_s*Americas1952_s)/Americas1952_n+(Americas2007_s*Americas2007_s)/Americas2007_n)\n",
    "Mean_Dif=Americas1952_Xbar-Americas2007_Xbar\n",
    "upper2=Mean_Dif+z*SE\n",
    "lower2=Mean_Dif-z*SE\n",
    "\n",
    "print (\"Lower\",lower2)\n",
    "print (\"Xbar Diff\", Mean_Dif)\n",
    "print (\"upper\", upper2)"
   ]
  },
  {
   "cell_type": "markdown",
   "metadata": {},
   "source": [
    "#### The confidence interval  does not contain the value mean1-mean2= 0, whcih means it is not possible that mean1=mean 2, therefore, the means of life expectancy in Americas for 1952 and 2007 can be different."
   ]
  },
  {
   "cell_type": "markdown",
   "metadata": {},
   "source": [
    "### Compare the means from Americas and Europe in 1952 for Life Expectancy at 95% confidence"
   ]
  },
  {
   "cell_type": "code",
   "execution_count": 29,
   "metadata": {},
   "outputs": [
    {
     "data": {
      "text/html": [
       "<div>\n",
       "<style scoped>\n",
       "    .dataframe tbody tr th:only-of-type {\n",
       "        vertical-align: middle;\n",
       "    }\n",
       "\n",
       "    .dataframe tbody tr th {\n",
       "        vertical-align: top;\n",
       "    }\n",
       "\n",
       "    .dataframe thead th {\n",
       "        text-align: right;\n",
       "    }\n",
       "</style>\n",
       "<table border=\"1\" class=\"dataframe\">\n",
       "  <thead>\n",
       "    <tr style=\"text-align: right;\">\n",
       "      <th></th>\n",
       "      <th>year</th>\n",
       "      <th>lifeExp</th>\n",
       "      <th>pop</th>\n",
       "      <th>gdpPercap</th>\n",
       "    </tr>\n",
       "  </thead>\n",
       "  <tbody>\n",
       "    <tr>\n",
       "      <th>count</th>\n",
       "      <td>30.0</td>\n",
       "      <td>30.000000</td>\n",
       "      <td>3.000000e+01</td>\n",
       "      <td>30.000000</td>\n",
       "    </tr>\n",
       "    <tr>\n",
       "      <th>mean</th>\n",
       "      <td>1952.0</td>\n",
       "      <td>64.408500</td>\n",
       "      <td>1.393736e+07</td>\n",
       "      <td>5661.057435</td>\n",
       "    </tr>\n",
       "    <tr>\n",
       "      <th>std</th>\n",
       "      <td>0.0</td>\n",
       "      <td>6.361088</td>\n",
       "      <td>1.724745e+07</td>\n",
       "      <td>3114.060493</td>\n",
       "    </tr>\n",
       "    <tr>\n",
       "      <th>min</th>\n",
       "      <td>1952.0</td>\n",
       "      <td>43.585000</td>\n",
       "      <td>1.479620e+05</td>\n",
       "      <td>973.533195</td>\n",
       "    </tr>\n",
       "    <tr>\n",
       "      <th>25%</th>\n",
       "      <td>1952.0</td>\n",
       "      <td>61.090000</td>\n",
       "      <td>3.639160e+06</td>\n",
       "      <td>3241.132406</td>\n",
       "    </tr>\n",
       "    <tr>\n",
       "      <th>50%</th>\n",
       "      <td>1952.0</td>\n",
       "      <td>65.900000</td>\n",
       "      <td>7.199786e+06</td>\n",
       "      <td>5142.469716</td>\n",
       "    </tr>\n",
       "    <tr>\n",
       "      <th>75%</th>\n",
       "      <td>1952.0</td>\n",
       "      <td>67.875000</td>\n",
       "      <td>1.506800e+07</td>\n",
       "      <td>7236.794919</td>\n",
       "    </tr>\n",
       "    <tr>\n",
       "      <th>max</th>\n",
       "      <td>1952.0</td>\n",
       "      <td>72.670000</td>\n",
       "      <td>6.914595e+07</td>\n",
       "      <td>14734.232750</td>\n",
       "    </tr>\n",
       "  </tbody>\n",
       "</table>\n",
       "</div>"
      ],
      "text/plain": [
       "         year    lifeExp           pop     gdpPercap\n",
       "count    30.0  30.000000  3.000000e+01     30.000000\n",
       "mean   1952.0  64.408500  1.393736e+07   5661.057435\n",
       "std       0.0   6.361088  1.724745e+07   3114.060493\n",
       "min    1952.0  43.585000  1.479620e+05    973.533195\n",
       "25%    1952.0  61.090000  3.639160e+06   3241.132406\n",
       "50%    1952.0  65.900000  7.199786e+06   5142.469716\n",
       "75%    1952.0  67.875000  1.506800e+07   7236.794919\n",
       "max    1952.0  72.670000  6.914595e+07  14734.232750"
      ]
     },
     "execution_count": 29,
     "metadata": {},
     "output_type": "execute_result"
    }
   ],
   "source": [
    "df_Europe_1952.describe()"
   ]
  },
  {
   "cell_type": "code",
   "execution_count": 30,
   "metadata": {},
   "outputs": [
    {
     "name": "stdout",
     "output_type": "stream",
     "text": [
      "Lower -15.437666222167168\n",
      "Xbar Diff -11.129999999999995\n",
      "upper -6.822333777832823\n"
     ]
    }
   ],
   "source": [
    "z=1.96\n",
    "Americas1952_s=9.33\n",
    "Americas1952_n=25\n",
    "Americas1952_Xbar=53.28\n",
    "Europe1952_s=6.36\n",
    "Europe1952_n=30\n",
    "Europe1952_Xbar=64.41\n",
    "SE=np.sqrt((Americas1952_s*Americas1952_s)/Americas1952_n+(Europe1952_s*Europe1952_s)/Europe1952_n)\n",
    "Mean_Dif=Americas1952_Xbar-Europe1952_Xbar\n",
    "upper2=Mean_Dif+z*SE\n",
    "lower2=Mean_Dif-z*SE\n",
    "\n",
    "print (\"Lower\",lower2)\n",
    "print (\"Xbar Diff\", Mean_Dif)\n",
    "print (\"upper\", upper2)"
   ]
  },
  {
   "cell_type": "markdown",
   "metadata": {},
   "source": [
    "#### The confidence interval does not contain the value mean1-mean2= 0, whcih means it is not possible that mean1=mean 2, therefore, the means of life expectancy from Americas and Europe in 1952 can be different."
   ]
  },
  {
   "cell_type": "markdown",
   "metadata": {},
   "source": [
    "### Compare the means from Americas and Europe in 2007 for Life Expectancy at 95% confidence"
   ]
  },
  {
   "cell_type": "code",
   "execution_count": 31,
   "metadata": {},
   "outputs": [
    {
     "data": {
      "text/html": [
       "<div>\n",
       "<style scoped>\n",
       "    .dataframe tbody tr th:only-of-type {\n",
       "        vertical-align: middle;\n",
       "    }\n",
       "\n",
       "    .dataframe tbody tr th {\n",
       "        vertical-align: top;\n",
       "    }\n",
       "\n",
       "    .dataframe thead th {\n",
       "        text-align: right;\n",
       "    }\n",
       "</style>\n",
       "<table border=\"1\" class=\"dataframe\">\n",
       "  <thead>\n",
       "    <tr style=\"text-align: right;\">\n",
       "      <th></th>\n",
       "      <th>year</th>\n",
       "      <th>lifeExp</th>\n",
       "      <th>pop</th>\n",
       "      <th>gdpPercap</th>\n",
       "    </tr>\n",
       "  </thead>\n",
       "  <tbody>\n",
       "    <tr>\n",
       "      <th>count</th>\n",
       "      <td>30.0</td>\n",
       "      <td>30.000000</td>\n",
       "      <td>3.000000e+01</td>\n",
       "      <td>30.000000</td>\n",
       "    </tr>\n",
       "    <tr>\n",
       "      <th>mean</th>\n",
       "      <td>2007.0</td>\n",
       "      <td>77.648600</td>\n",
       "      <td>1.953662e+07</td>\n",
       "      <td>25054.481636</td>\n",
       "    </tr>\n",
       "    <tr>\n",
       "      <th>std</th>\n",
       "      <td>0.0</td>\n",
       "      <td>2.979813</td>\n",
       "      <td>2.362474e+07</td>\n",
       "      <td>11800.339811</td>\n",
       "    </tr>\n",
       "    <tr>\n",
       "      <th>min</th>\n",
       "      <td>2007.0</td>\n",
       "      <td>71.777000</td>\n",
       "      <td>3.019310e+05</td>\n",
       "      <td>5937.029526</td>\n",
       "    </tr>\n",
       "    <tr>\n",
       "      <th>25%</th>\n",
       "      <td>2007.0</td>\n",
       "      <td>75.029750</td>\n",
       "      <td>4.780560e+06</td>\n",
       "      <td>14811.898210</td>\n",
       "    </tr>\n",
       "    <tr>\n",
       "      <th>50%</th>\n",
       "      <td>2007.0</td>\n",
       "      <td>78.608500</td>\n",
       "      <td>9.493598e+06</td>\n",
       "      <td>28054.065790</td>\n",
       "    </tr>\n",
       "    <tr>\n",
       "      <th>75%</th>\n",
       "      <td>2007.0</td>\n",
       "      <td>79.812250</td>\n",
       "      <td>2.084970e+07</td>\n",
       "      <td>33817.962533</td>\n",
       "    </tr>\n",
       "    <tr>\n",
       "      <th>max</th>\n",
       "      <td>2007.0</td>\n",
       "      <td>81.757000</td>\n",
       "      <td>8.240100e+07</td>\n",
       "      <td>49357.190170</td>\n",
       "    </tr>\n",
       "  </tbody>\n",
       "</table>\n",
       "</div>"
      ],
      "text/plain": [
       "         year    lifeExp           pop     gdpPercap\n",
       "count    30.0  30.000000  3.000000e+01     30.000000\n",
       "mean   2007.0  77.648600  1.953662e+07  25054.481636\n",
       "std       0.0   2.979813  2.362474e+07  11800.339811\n",
       "min    2007.0  71.777000  3.019310e+05   5937.029526\n",
       "25%    2007.0  75.029750  4.780560e+06  14811.898210\n",
       "50%    2007.0  78.608500  9.493598e+06  28054.065790\n",
       "75%    2007.0  79.812250  2.084970e+07  33817.962533\n",
       "max    2007.0  81.757000  8.240100e+07  49357.190170"
      ]
     },
     "execution_count": 31,
     "metadata": {},
     "output_type": "execute_result"
    }
   ],
   "source": [
    "df_Europe_2007.describe()"
   ]
  },
  {
   "cell_type": "code",
   "execution_count": 32,
   "metadata": {},
   "outputs": [
    {
     "name": "stdout",
     "output_type": "stream",
     "text": [
      "Lower -6.081184815672838\n",
      "Xbar Diff -4.040000000000006\n",
      "upper -1.998815184327174\n"
     ]
    }
   ],
   "source": [
    "z=1.96\n",
    "Americas2007_s=4.44\n",
    "Americas2007_n=25\n",
    "Americas2007_Xbar=73.61\n",
    "Europe2007_s=2.98\n",
    "Europe2007_n=30\n",
    "Europe2007_Xbar=77.65\n",
    "SE=np.sqrt((Americas2007_s*Americas2007_s)/Americas2007_n+(Europe2007_s*Europe2007_s)/Europe2007_n)\n",
    "Mean_Dif=Americas2007_Xbar-Europe2007_Xbar\n",
    "upper2=Mean_Dif+z*SE\n",
    "lower2=Mean_Dif-z*SE\n",
    "\n",
    "print (\"Lower\",lower2)\n",
    "print (\"Xbar Diff\", Mean_Dif)\n",
    "print (\"upper\", upper2)"
   ]
  },
  {
   "cell_type": "markdown",
   "metadata": {},
   "source": [
    "#### The confidence interval does not contain the value mean1-mean2= 0, whcih means it is not possible that mean1=mean 2, therefore, the means of life expectancy from Americas and Europe in 2007 can be different."
   ]
  },
  {
   "cell_type": "markdown",
   "metadata": {},
   "source": [
    "### Compare the means of life expectancy in Americas for 1952 and 1957 at 99% confidence"
   ]
  },
  {
   "cell_type": "code",
   "execution_count": 33,
   "metadata": {},
   "outputs": [
    {
     "name": "stdout",
     "output_type": "stream",
     "text": [
      "Lower -9.37985416175606\n",
      "Xbar Diff -2.6799999999999997\n",
      "upper 4.01985416175606\n"
     ]
    }
   ],
   "source": [
    "z=2.58\n",
    "Americas1952_s=9.33\n",
    "Americas1952_n=25\n",
    "Americas1952_Xbar=53.28\n",
    "Americas1957_s=9.03\n",
    "Americas1957_n=25\n",
    "Americas1957_Xbar=55.96\n",
    "SE=np.sqrt((Americas1952_s*Americas1952_s)/Americas1952_n+(Americas1957_s*Americas1957_s)/Americas1957_n)\n",
    "Mean_Dif=Americas1952_Xbar-Americas1957_Xbar\n",
    "upper2=Mean_Dif+z*SE\n",
    "lower2=Mean_Dif-z*SE\n",
    "\n",
    "print (\"Lower\",lower2)\n",
    "print (\"Xbar Diff\", Mean_Dif)\n",
    "print (\"upper\", upper2)"
   ]
  },
  {
   "cell_type": "markdown",
   "metadata": {},
   "source": [
    "#### The confidence interval contains the value mean1-mean2= 0, whcih means it is  possible that mean1=mean 2, therefore, the means of life expectancy in Americas for 1952 and 1957 can be same."
   ]
  },
  {
   "cell_type": "markdown",
   "metadata": {},
   "source": [
    "### Compare the means of life expectancy in Americas for 2002 and 2007 at 99% confidence"
   ]
  },
  {
   "cell_type": "code",
   "execution_count": 34,
   "metadata": {},
   "outputs": [
    {
     "name": "stdout",
     "output_type": "stream",
     "text": [
      "Lower -4.563929833532402\n",
      "Xbar Diff -1.1899999999999977\n",
      "upper 2.183929833532407\n"
     ]
    }
   ],
   "source": [
    "z=2.58\n",
    "Americas2002_s=4.8\n",
    "Americas2002_n=25\n",
    "Americas2002_Xbar=72.42\n",
    "Americas2007_s=4.44\n",
    "Americas2007_n=25\n",
    "Americas2007_Xbar=73.61\n",
    "SE=np.sqrt((Americas2002_s*Americas2002_s)/Americas2002_n+(Americas2007_s*Americas2007_s)/Americas2007_n)\n",
    "Mean_Dif=Americas2002_Xbar-Americas2007_Xbar\n",
    "upper2=Mean_Dif+z*SE\n",
    "lower2=Mean_Dif-z*SE\n",
    "\n",
    "print (\"Lower\",lower2)\n",
    "print (\"Xbar Diff\", Mean_Dif)\n",
    "print (\"upper\", upper2)"
   ]
  },
  {
   "cell_type": "markdown",
   "metadata": {},
   "source": [
    "#### The confidence interval contains the value mean1-mean2= 0, whcih means it is  possible that mean1=mean 2, therefore, the means of life expectancy in Americas for 2002 and 2007 can be same."
   ]
  },
  {
   "cell_type": "markdown",
   "metadata": {},
   "source": [
    "### Compare the means of life expectancy in Americas for 1952 and for 2007 at 99% confidence"
   ]
  },
  {
   "cell_type": "code",
   "execution_count": 35,
   "metadata": {},
   "outputs": [
    {
     "name": "stdout",
     "output_type": "stream",
     "text": [
      "Lower -25.661618534741585\n",
      "Xbar Diff -20.33\n",
      "upper -14.998381465258413\n"
     ]
    }
   ],
   "source": [
    "z=2.58\n",
    "Americas1952_s=9.33\n",
    "Americas1952_n=25\n",
    "Americas1952_Xbar=53.28\n",
    "Americas2007_s=4.44\n",
    "Americas2007_n=25\n",
    "Americas2007_Xbar=73.61\n",
    "SE=np.sqrt((Americas1952_s*Americas1952_s)/Americas1952_n+(Americas2007_s*Americas2007_s)/Americas2007_n)\n",
    "Mean_Dif=Americas1952_Xbar-Americas2007_Xbar\n",
    "upper2=Mean_Dif+z*SE\n",
    "lower2=Mean_Dif-z*SE\n",
    "\n",
    "print (\"Lower\",lower2)\n",
    "print (\"Xbar Diff\", Mean_Dif)\n",
    "print (\"upper\", upper2)"
   ]
  },
  {
   "cell_type": "markdown",
   "metadata": {},
   "source": [
    "#### The confidence interval  does not contain the value mean1-mean2= 0, whcih means it is not possible that mean1=mean 2, therefore, the means of life expectancy in Americas for 1952 and 2007 can be different."
   ]
  },
  {
   "cell_type": "markdown",
   "metadata": {},
   "source": [
    "### Compare the means from Americas and Europe in 1952 for Life Expectancy at 99% confidence"
   ]
  },
  {
   "cell_type": "code",
   "execution_count": 36,
   "metadata": {},
   "outputs": [
    {
     "name": "stdout",
     "output_type": "stream",
     "text": [
      "Lower -16.800295333260866\n",
      "Xbar Diff -11.129999999999995\n",
      "upper -5.459704666739126\n"
     ]
    }
   ],
   "source": [
    "z=2.58\n",
    "Americas1952_s=9.33\n",
    "Americas1952_n=25\n",
    "Americas1952_Xbar=53.28\n",
    "Europe1952_s=6.36\n",
    "Europe1952_n=30\n",
    "Europe1952_Xbar=64.41\n",
    "SE=np.sqrt((Americas1952_s*Americas1952_s)/Americas1952_n+(Europe1952_s*Europe1952_s)/Europe1952_n)\n",
    "Mean_Dif=Americas1952_Xbar-Europe1952_Xbar\n",
    "upper2=Mean_Dif+z*SE\n",
    "lower2=Mean_Dif-z*SE\n",
    "\n",
    "print (\"Lower\",lower2)\n",
    "print (\"Xbar Diff\", Mean_Dif)\n",
    "print (\"upper\", upper2)"
   ]
  },
  {
   "cell_type": "markdown",
   "metadata": {},
   "source": [
    "#### The confidence interval does not contain the value mean1-mean2= 0, whcih means it is not possible that mean1=mean 2, therefore, the means of life expectancy from Americas and Europe in 1952 can be different."
   ]
  },
  {
   "cell_type": "markdown",
   "metadata": {},
   "source": [
    "### Compare the means from Americas and Europe in 2007 for Life Expectancy at 99% confidence"
   ]
  },
  {
   "cell_type": "code",
   "execution_count": 37,
   "metadata": {},
   "outputs": [
    {
     "name": "stdout",
     "output_type": "stream",
     "text": [
      "Lower -6.7268657267530205\n",
      "Xbar Diff -4.040000000000006\n",
      "upper -1.3531342732469924\n"
     ]
    }
   ],
   "source": [
    "z=2.58\n",
    "Americas2007_s=4.44\n",
    "Americas2007_n=25\n",
    "Americas2007_Xbar=73.61\n",
    "Europe2007_s=2.98\n",
    "Europe2007_n=30\n",
    "Europe2007_Xbar=77.65\n",
    "SE=np.sqrt((Americas2007_s*Americas2007_s)/Americas2007_n+(Europe2007_s*Europe2007_s)/Europe2007_n)\n",
    "Mean_Dif=Americas2007_Xbar-Europe2007_Xbar\n",
    "upper2=Mean_Dif+z*SE\n",
    "lower2=Mean_Dif-z*SE\n",
    "\n",
    "print (\"Lower\",lower2)\n",
    "print (\"Xbar Diff\", Mean_Dif)\n",
    "print (\"upper\", upper2)"
   ]
  },
  {
   "cell_type": "markdown",
   "metadata": {},
   "source": [
    "#### The confidence interval does not contain the value mean1-mean2= 0, whcih means it is not possible that mean1=mean 2, therefore, the means of life expectancy from Americas and Europe in 2007 can be different."
   ]
  },
  {
   "cell_type": "code",
   "execution_count": null,
   "metadata": {},
   "outputs": [],
   "source": []
  }
 ],
 "metadata": {
  "kernelspec": {
   "display_name": "Python 3",
   "language": "python",
   "name": "python3"
  },
  "language_info": {
   "codemirror_mode": {
    "name": "ipython",
    "version": 3
   },
   "file_extension": ".py",
   "mimetype": "text/x-python",
   "name": "python",
   "nbconvert_exporter": "python",
   "pygments_lexer": "ipython3",
   "version": "3.7.6"
  }
 },
 "nbformat": 4,
 "nbformat_minor": 4
}
