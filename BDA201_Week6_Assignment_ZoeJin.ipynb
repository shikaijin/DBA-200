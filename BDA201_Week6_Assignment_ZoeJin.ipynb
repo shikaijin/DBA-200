{
 "cells": [
  {
   "cell_type": "code",
   "execution_count": 2,
   "metadata": {},
   "outputs": [],
   "source": [
    "import pandas as pd\n",
    "import seaborn as sns\n",
    "import statsmodels.formula.api as smf\n",
    "import statsmodels.api as sm2\n",
    "import matplotlib.pyplot as plt\n",
    "from sklearn.linear_model import LinearRegression\n",
    "from sklearn import metrics \n",
    "from sklearn.model_selection  import train_test_split\n",
    "import numpy as np\n",
    "\n",
    "%matplotlib inline"
   ]
  },
  {
   "cell_type": "code",
   "execution_count": 3,
   "metadata": {},
   "outputs": [
    {
     "data": {
      "text/html": [
       "<div>\n",
       "<style scoped>\n",
       "    .dataframe tbody tr th:only-of-type {\n",
       "        vertical-align: middle;\n",
       "    }\n",
       "\n",
       "    .dataframe tbody tr th {\n",
       "        vertical-align: top;\n",
       "    }\n",
       "\n",
       "    .dataframe thead th {\n",
       "        text-align: right;\n",
       "    }\n",
       "</style>\n",
       "<table border=\"1\" class=\"dataframe\">\n",
       "  <thead>\n",
       "    <tr style=\"text-align: right;\">\n",
       "      <th></th>\n",
       "      <th>year</th>\n",
       "      <th>quarter</th>\n",
       "      <th>realgdp</th>\n",
       "      <th>realcons</th>\n",
       "      <th>realinv</th>\n",
       "      <th>realgovt</th>\n",
       "      <th>realdpi</th>\n",
       "      <th>cpi</th>\n",
       "      <th>m1</th>\n",
       "      <th>tbilrate</th>\n",
       "      <th>unemp</th>\n",
       "      <th>pop</th>\n",
       "      <th>infl</th>\n",
       "      <th>realint</th>\n",
       "    </tr>\n",
       "  </thead>\n",
       "  <tbody>\n",
       "    <tr>\n",
       "      <th>0</th>\n",
       "      <td>1959</td>\n",
       "      <td>1</td>\n",
       "      <td>2710.349</td>\n",
       "      <td>1707.4</td>\n",
       "      <td>286.898</td>\n",
       "      <td>470.045</td>\n",
       "      <td>1886.9</td>\n",
       "      <td>28.98</td>\n",
       "      <td>139.7</td>\n",
       "      <td>2.82</td>\n",
       "      <td>5.8</td>\n",
       "      <td>177.146</td>\n",
       "      <td>0.00</td>\n",
       "      <td>0.00</td>\n",
       "    </tr>\n",
       "    <tr>\n",
       "      <th>1</th>\n",
       "      <td>1959</td>\n",
       "      <td>2</td>\n",
       "      <td>2778.801</td>\n",
       "      <td>1733.7</td>\n",
       "      <td>310.859</td>\n",
       "      <td>481.301</td>\n",
       "      <td>1919.7</td>\n",
       "      <td>29.15</td>\n",
       "      <td>141.7</td>\n",
       "      <td>3.08</td>\n",
       "      <td>5.1</td>\n",
       "      <td>177.830</td>\n",
       "      <td>2.34</td>\n",
       "      <td>0.74</td>\n",
       "    </tr>\n",
       "    <tr>\n",
       "      <th>2</th>\n",
       "      <td>1959</td>\n",
       "      <td>3</td>\n",
       "      <td>2775.488</td>\n",
       "      <td>1751.8</td>\n",
       "      <td>289.226</td>\n",
       "      <td>491.260</td>\n",
       "      <td>1916.4</td>\n",
       "      <td>29.35</td>\n",
       "      <td>140.5</td>\n",
       "      <td>3.82</td>\n",
       "      <td>5.3</td>\n",
       "      <td>178.657</td>\n",
       "      <td>2.74</td>\n",
       "      <td>1.09</td>\n",
       "    </tr>\n",
       "    <tr>\n",
       "      <th>3</th>\n",
       "      <td>1959</td>\n",
       "      <td>4</td>\n",
       "      <td>2785.204</td>\n",
       "      <td>1753.7</td>\n",
       "      <td>299.356</td>\n",
       "      <td>484.052</td>\n",
       "      <td>1931.3</td>\n",
       "      <td>29.37</td>\n",
       "      <td>140.0</td>\n",
       "      <td>4.33</td>\n",
       "      <td>5.6</td>\n",
       "      <td>179.386</td>\n",
       "      <td>0.27</td>\n",
       "      <td>4.06</td>\n",
       "    </tr>\n",
       "    <tr>\n",
       "      <th>4</th>\n",
       "      <td>1960</td>\n",
       "      <td>1</td>\n",
       "      <td>2847.699</td>\n",
       "      <td>1770.5</td>\n",
       "      <td>331.722</td>\n",
       "      <td>462.199</td>\n",
       "      <td>1955.5</td>\n",
       "      <td>29.54</td>\n",
       "      <td>139.6</td>\n",
       "      <td>3.50</td>\n",
       "      <td>5.2</td>\n",
       "      <td>180.007</td>\n",
       "      <td>2.31</td>\n",
       "      <td>1.19</td>\n",
       "    </tr>\n",
       "  </tbody>\n",
       "</table>\n",
       "</div>"
      ],
      "text/plain": [
       "   year  quarter   realgdp  realcons  realinv  realgovt  realdpi    cpi  \\\n",
       "0  1959        1  2710.349    1707.4  286.898   470.045   1886.9  28.98   \n",
       "1  1959        2  2778.801    1733.7  310.859   481.301   1919.7  29.15   \n",
       "2  1959        3  2775.488    1751.8  289.226   491.260   1916.4  29.35   \n",
       "3  1959        4  2785.204    1753.7  299.356   484.052   1931.3  29.37   \n",
       "4  1960        1  2847.699    1770.5  331.722   462.199   1955.5  29.54   \n",
       "\n",
       "      m1  tbilrate  unemp      pop  infl  realint  \n",
       "0  139.7      2.82    5.8  177.146  0.00     0.00  \n",
       "1  141.7      3.08    5.1  177.830  2.34     0.74  \n",
       "2  140.5      3.82    5.3  178.657  2.74     1.09  \n",
       "3  140.0      4.33    5.6  179.386  0.27     4.06  \n",
       "4  139.6      3.50    5.2  180.007  2.31     1.19  "
      ]
     },
     "execution_count": 3,
     "metadata": {},
     "output_type": "execute_result"
    }
   ],
   "source": [
    "df= pd.read_csv('Macro_Economic.csv', header=0)\n",
    "df.head()"
   ]
  },
  {
   "cell_type": "code",
   "execution_count": 1,
   "metadata": {},
   "outputs": [
    {
     "ename": "NameError",
     "evalue": "name 's' is not defined",
     "output_type": "error",
     "traceback": [
      "\u001b[1;31m---------------------------------------------------------------------------\u001b[0m",
      "\u001b[1;31mNameError\u001b[0m                                 Traceback (most recent call last)",
      "\u001b[1;32m<ipython-input-1-bb3a01a74a76>\u001b[0m in \u001b[0;36m<module>\u001b[1;34m\u001b[0m\n\u001b[1;32m----> 1\u001b[1;33m \u001b[0ms\u001b[0m\u001b[1;33m[\u001b[0m\u001b[1;33m:\u001b[0m\u001b[1;36m5\u001b[0m\u001b[1;33m]\u001b[0m\u001b[1;33m\u001b[0m\u001b[1;33m\u001b[0m\u001b[0m\n\u001b[0m",
      "\u001b[1;31mNameError\u001b[0m: name 's' is not defined"
     ]
    }
   ],
   "source": [
    "s[:5]\n"
   ]
  },
  {
   "cell_type": "code",
   "execution_count": 2,
   "metadata": {},
   "outputs": [
    {
     "ename": "NameError",
     "evalue": "name 'smf' is not defined",
     "output_type": "error",
     "traceback": [
      "\u001b[1;31m---------------------------------------------------------------------------\u001b[0m",
      "\u001b[1;31mNameError\u001b[0m                                 Traceback (most recent call last)",
      "\u001b[1;32m<ipython-input-2-333c9a79897a>\u001b[0m in \u001b[0;36m<module>\u001b[1;34m\u001b[0m\n\u001b[1;32m----> 1\u001b[1;33m \u001b[0mlm\u001b[0m \u001b[1;33m=\u001b[0m \u001b[0msmf\u001b[0m\u001b[1;33m.\u001b[0m\u001b[0mols\u001b[0m\u001b[1;33m(\u001b[0m\u001b[0mformula\u001b[0m\u001b[1;33m=\u001b[0m\u001b[1;34m'infl ~ year + quarter + realgdp + realcons + realinv + realgovt + realdpi + cpi +  m1 + tbilrate + unemp + pop'\u001b[0m\u001b[1;33m,\u001b[0m \u001b[0mdata\u001b[0m\u001b[1;33m=\u001b[0m\u001b[0mf\u001b[0m\u001b[1;33m)\u001b[0m\u001b[1;33m.\u001b[0m\u001b[0mfit\u001b[0m\u001b[1;33m(\u001b[0m\u001b[1;33m)\u001b[0m\u001b[1;33m\u001b[0m\u001b[1;33m\u001b[0m\u001b[0m\n\u001b[0m\u001b[0;32m      2\u001b[0m \u001b[0mlm\u001b[0m\u001b[1;33m.\u001b[0m\u001b[0mpvalues\u001b[0m\u001b[1;33m\u001b[0m\u001b[1;33m\u001b[0m\u001b[0m\n",
      "\u001b[1;31mNameError\u001b[0m: name 'smf' is not defined"
     ]
    }
   ],
   "source": [
    "lm= smf.ols(formula='infl ~ year + quarter + realgdp + realcons + realinv + realgovt + realdpi + cpi +  m1 + tbilrate + unemp + pop', data=f).fit()\n",
    "lm.pvalues"
   ]
  },
  {
   "cell_type": "code",
   "execution_count": 29,
   "metadata": {},
   "outputs": [
    {
     "data": {
      "text/html": [
       "<table class=\"simpletable\">\n",
       "<caption>OLS Regression Results</caption>\n",
       "<tr>\n",
       "  <th>Dep. Variable:</th>          <td>infl</td>       <th>  R-squared:         </th> <td>   0.672</td>\n",
       "</tr>\n",
       "<tr>\n",
       "  <th>Model:</th>                   <td>OLS</td>       <th>  Adj. R-squared:    </th> <td>   0.659</td>\n",
       "</tr>\n",
       "<tr>\n",
       "  <th>Method:</th>             <td>Least Squares</td>  <th>  F-statistic:       </th> <td>   52.56</td>\n",
       "</tr>\n",
       "<tr>\n",
       "  <th>Date:</th>             <td>Sun, 28 Jun 2020</td> <th>  Prob (F-statistic):</th> <td>2.79e-40</td>\n",
       "</tr>\n",
       "<tr>\n",
       "  <th>Time:</th>                 <td>16:19:36</td>     <th>  Log-Likelihood:    </th> <td> -376.94</td>\n",
       "</tr>\n",
       "<tr>\n",
       "  <th>No. Observations:</th>      <td>   188</td>      <th>  AIC:               </th> <td>   769.9</td>\n",
       "</tr>\n",
       "<tr>\n",
       "  <th>Df Residuals:</th>          <td>   180</td>      <th>  BIC:               </th> <td>   795.8</td>\n",
       "</tr>\n",
       "<tr>\n",
       "  <th>Df Model:</th>              <td>     7</td>      <th>                     </th>     <td> </td>   \n",
       "</tr>\n",
       "<tr>\n",
       "  <th>Covariance Type:</th>      <td>nonrobust</td>    <th>                     </th>     <td> </td>   \n",
       "</tr>\n",
       "</table>\n",
       "<table class=\"simpletable\">\n",
       "<tr>\n",
       "      <td></td>         <th>coef</th>     <th>std err</th>      <th>t</th>      <th>P>|t|</th>  <th>[0.025</th>    <th>0.975]</th>  \n",
       "</tr>\n",
       "<tr>\n",
       "  <th>Intercept</th> <td>   31.3708</td> <td>   10.172</td> <td>    3.084</td> <td> 0.002</td> <td>   11.299</td> <td>   51.443</td>\n",
       "</tr>\n",
       "<tr>\n",
       "  <th>realgdp</th>   <td>    0.0094</td> <td>    0.001</td> <td>    7.244</td> <td> 0.000</td> <td>    0.007</td> <td>    0.012</td>\n",
       "</tr>\n",
       "<tr>\n",
       "  <th>realinv</th>   <td>   -0.0171</td> <td>    0.003</td> <td>   -6.408</td> <td> 0.000</td> <td>   -0.022</td> <td>   -0.012</td>\n",
       "</tr>\n",
       "<tr>\n",
       "  <th>realgovt</th>  <td>   -0.0132</td> <td>    0.003</td> <td>   -5.019</td> <td> 0.000</td> <td>   -0.018</td> <td>   -0.008</td>\n",
       "</tr>\n",
       "<tr>\n",
       "  <th>cpi</th>       <td>   -0.2016</td> <td>    0.025</td> <td>   -8.073</td> <td> 0.000</td> <td>   -0.251</td> <td>   -0.152</td>\n",
       "</tr>\n",
       "<tr>\n",
       "  <th>m1</th>        <td>    0.0067</td> <td>    0.003</td> <td>    2.276</td> <td> 0.024</td> <td>    0.001</td> <td>    0.012</td>\n",
       "</tr>\n",
       "<tr>\n",
       "  <th>tbilrate</th>  <td>    1.0191</td> <td>    0.080</td> <td>   12.715</td> <td> 0.000</td> <td>    0.861</td> <td>    1.177</td>\n",
       "</tr>\n",
       "<tr>\n",
       "  <th>pop</th>       <td>   -0.2392</td> <td>    0.067</td> <td>   -3.588</td> <td> 0.000</td> <td>   -0.371</td> <td>   -0.108</td>\n",
       "</tr>\n",
       "</table>\n",
       "<table class=\"simpletable\">\n",
       "<tr>\n",
       "  <th>Omnibus:</th>       <td> 9.658</td> <th>  Durbin-Watson:     </th> <td>   1.746</td>\n",
       "</tr>\n",
       "<tr>\n",
       "  <th>Prob(Omnibus):</th> <td> 0.008</td> <th>  Jarque-Bera (JB):  </th> <td>  20.528</td>\n",
       "</tr>\n",
       "<tr>\n",
       "  <th>Skew:</th>          <td>-0.046</td> <th>  Prob(JB):          </th> <td>3.49e-05</td>\n",
       "</tr>\n",
       "<tr>\n",
       "  <th>Kurtosis:</th>      <td> 4.616</td> <th>  Cond. No.          </th> <td>5.67e+05</td>\n",
       "</tr>\n",
       "</table><br/><br/>Warnings:<br/>[1] Standard Errors assume that the covariance matrix of the errors is correctly specified.<br/>[2] The condition number is large, 5.67e+05. This might indicate that there are<br/>strong multicollinearity or other numerical problems."
      ],
      "text/plain": [
       "<class 'statsmodels.iolib.summary.Summary'>\n",
       "\"\"\"\n",
       "                            OLS Regression Results                            \n",
       "==============================================================================\n",
       "Dep. Variable:                   infl   R-squared:                       0.672\n",
       "Model:                            OLS   Adj. R-squared:                  0.659\n",
       "Method:                 Least Squares   F-statistic:                     52.56\n",
       "Date:                Sun, 28 Jun 2020   Prob (F-statistic):           2.79e-40\n",
       "Time:                        16:19:36   Log-Likelihood:                -376.94\n",
       "No. Observations:                 188   AIC:                             769.9\n",
       "Df Residuals:                     180   BIC:                             795.8\n",
       "Df Model:                           7                                         \n",
       "Covariance Type:            nonrobust                                         \n",
       "==============================================================================\n",
       "                 coef    std err          t      P>|t|      [0.025      0.975]\n",
       "------------------------------------------------------------------------------\n",
       "Intercept     31.3708     10.172      3.084      0.002      11.299      51.443\n",
       "realgdp        0.0094      0.001      7.244      0.000       0.007       0.012\n",
       "realinv       -0.0171      0.003     -6.408      0.000      -0.022      -0.012\n",
       "realgovt      -0.0132      0.003     -5.019      0.000      -0.018      -0.008\n",
       "cpi           -0.2016      0.025     -8.073      0.000      -0.251      -0.152\n",
       "m1             0.0067      0.003      2.276      0.024       0.001       0.012\n",
       "tbilrate       1.0191      0.080     12.715      0.000       0.861       1.177\n",
       "pop           -0.2392      0.067     -3.588      0.000      -0.371      -0.108\n",
       "==============================================================================\n",
       "Omnibus:                        9.658   Durbin-Watson:                   1.746\n",
       "Prob(Omnibus):                  0.008   Jarque-Bera (JB):               20.528\n",
       "Skew:                          -0.046   Prob(JB):                     3.49e-05\n",
       "Kurtosis:                       4.616   Cond. No.                     5.67e+05\n",
       "==============================================================================\n",
       "\n",
       "Warnings:\n",
       "[1] Standard Errors assume that the covariance matrix of the errors is correctly specified.\n",
       "[2] The condition number is large, 5.67e+05. This might indicate that there are\n",
       "strong multicollinearity or other numerical problems.\n",
       "\"\"\""
      ]
     },
     "execution_count": 29,
     "metadata": {},
     "output_type": "execute_result"
    }
   ],
   "source": [
    "lm1 = smf.ols(formula='infl ~ realgdp + realinv + realgovt + cpi + m1 + tbilrate + pop', data=f).fit()\n",
    "lm1.summary()"
   ]
  },
  {
   "cell_type": "markdown",
   "metadata": {},
   "source": [
    "The R-square=0.672 suggests the model fits the data fairly well. I choose these independent variables since their p-val of t < 0.05 in the previous model that contains all independent variables.\n",
    "\n",
    "The model has adjusted R-square=0.659, which means not all variables are contributing.\n",
    "\n",
    "The F statistic test the null hypothesis that all of the regression coefficients are equal to zero.  The p-val of F statistic is 2.79e-40 which is < 0.05. This means we can reject the null hypothesis, and the model has some validity in fitting the data.\n",
    "\n",
    "We set a significance level alpha = 0.05. Here, the contribution of these variables are significiant since their p-val of t < 0.05. Each of these regression coefficients are not equal to zero. In other words, these variables have significant impacts on inflation."
   ]
  },
  {
   "cell_type": "code",
   "execution_count": 30,
   "metadata": {},
   "outputs": [
    {
     "data": {
      "text/plain": [
       "0    3.603067\n",
       "dtype: float64"
      ]
     },
     "execution_count": 30,
     "metadata": {},
     "output_type": "execute_result"
    }
   ],
   "source": [
    "# 2006 first quarter\n",
    "X1 = pd.DataFrame({'realgdp': [12915.938], 'realinv':[2264.721], 'realgovt':[900.511],'cpi': [200.7],'m1': [1380.5], 'tbilrate':[4.51], 'pop':[298.061]})\n",
    "lm1.predict(X1)"
   ]
  },
  {
   "cell_type": "code",
   "execution_count": 31,
   "metadata": {},
   "outputs": [
    {
     "data": {
      "text/plain": [
       "0    3.867434\n",
       "dtype: float64"
      ]
     },
     "execution_count": 31,
     "metadata": {},
     "output_type": "execute_result"
    }
   ],
   "source": [
    "# 2006 second quarter\n",
    "X2 = pd.DataFrame({'realgdp': [12962.462], 'realinv':[2261.247], 'realgovt':[892.839],'cpi': [202.7],'m1': [1369.2], 'tbilrate':[4.82], 'pop':[298.766]})\n",
    "lm1.predict(X2)"
   ]
  },
  {
   "cell_type": "code",
   "execution_count": 32,
   "metadata": {},
   "outputs": [
    {
     "data": {
      "text/plain": [
       "0    4.498397\n",
       "dtype: float64"
      ]
     },
     "execution_count": 32,
     "metadata": {},
     "output_type": "execute_result"
    }
   ],
   "source": [
    "# 2006 third quarter\n",
    "X3 = pd.DataFrame({'realgdp': [12965.916], 'realinv':[2229.636], 'realgovt':[892.002],'cpi': [201.9],'m1': [1369.4], 'tbilrate':[4.9], 'pop':[299.593]})\n",
    "lm1.predict(X3)"
   ]
  },
  {
   "cell_type": "code",
   "execution_count": 33,
   "metadata": {},
   "outputs": [
    {
     "data": {
      "text/plain": [
       "0    5.980303\n",
       "dtype: float64"
      ]
     },
     "execution_count": 33,
     "metadata": {},
     "output_type": "execute_result"
    }
   ],
   "source": [
    "# 2006 fourth quarter\n",
    "X4 = pd.DataFrame({'realgdp': [13060.679], 'realinv':[2165.966], 'realgovt':[894.404],'cpi': [203.574],'m1': [1373.6], 'tbilrate':[4.92], 'pop':[300.32]})\n",
    "lm1.predict(X4)"
   ]
  },
  {
   "cell_type": "code",
   "execution_count": 34,
   "metadata": {},
   "outputs": [
    {
     "data": {
      "text/plain": [
       "0    6.512911\n",
       "dtype: float64"
      ]
     },
     "execution_count": 34,
     "metadata": {},
     "output_type": "execute_result"
    }
   ],
   "source": [
    "# 2007 first quarter\n",
    "X5 = pd.DataFrame({'realgdp': [13099.901], 'realinv':[2132.609], 'realgovt':[882.766],'cpi': [205.92],'m1': [1379.7], 'tbilrate':[4.95], 'pop':[300.977]})\n",
    "lm1.predict(X5)"
   ]
  },
  {
   "cell_type": "code",
   "execution_count": 35,
   "metadata": {},
   "outputs": [
    {
     "data": {
      "text/plain": [
       "0    6.007894\n",
       "dtype: float64"
      ]
     },
     "execution_count": 35,
     "metadata": {},
     "output_type": "execute_result"
    }
   ],
   "source": [
    "# 2007 second quarter\n",
    "X6 = pd.DataFrame({'realgdp': [13203.977], 'realinv':[2162.214], 'realgovt':[898.713],'cpi': [207.338],'m1': [1370], 'tbilrate':[4.72], 'pop':[301.714]})\n",
    "lm1.predict(X6)"
   ]
  },
  {
   "cell_type": "code",
   "execution_count": 36,
   "metadata": {},
   "outputs": [
    {
     "data": {
      "text/plain": [
       "0    5.538669\n",
       "dtype: float64"
      ]
     },
     "execution_count": 36,
     "metadata": {},
     "output_type": "execute_result"
    }
   ],
   "source": [
    "# 2007 third quarter\n",
    "X7 = pd.DataFrame({'realgdp': [13321.109], 'realinv':[2166.491], 'realgovt':[918.983],'cpi': [209.133],'m1': [1379.2], 'tbilrate':[4], 'pop':[302.509]})\n",
    "lm1.predict(X7)"
   ]
  },
  {
   "cell_type": "code",
   "execution_count": 37,
   "metadata": {},
   "outputs": [
    {
     "data": {
      "text/plain": [
       "0    4.986202\n",
       "dtype: float64"
      ]
     },
     "execution_count": 37,
     "metadata": {},
     "output_type": "execute_result"
    }
   ],
   "source": [
    "# 2007 fourth quarter\n",
    "X8 = pd.DataFrame({'realgdp': [13391.249], 'realinv':[2123.426], 'realgovt':[925.11],'cpi': [212.495],'m1': [1377.4], 'tbilrate':[3.01], 'pop':[303.204]})\n",
    "lm1.predict(X8)"
   ]
  },
  {
   "cell_type": "code",
   "execution_count": 38,
   "metadata": {},
   "outputs": [
    {
     "data": {
      "text/plain": [
       "0    3.331646\n",
       "dtype: float64"
      ]
     },
     "execution_count": 38,
     "metadata": {},
     "output_type": "execute_result"
    }
   ],
   "source": [
    "# 2008 first quarter\n",
    "X9 = pd.DataFrame({'realgdp': [13366.865], 'realinv':[2082.886], 'realgovt':[943.372],'cpi': [213.997],'m1': [1384], 'tbilrate':[1.56], 'pop':[303.803]})\n",
    "lm1.predict(X9)"
   ]
  },
  {
   "cell_type": "code",
   "execution_count": 39,
   "metadata": {},
   "outputs": [
    {
     "data": {
      "text/plain": [
       "0    3.773078\n",
       "dtype: float64"
      ]
     },
     "execution_count": 39,
     "metadata": {},
     "output_type": "execute_result"
    }
   ],
   "source": [
    "# 2008 second quarter\n",
    "X10 = pd.DataFrame({'realgdp': [13415.266], 'realinv':[2026.518], 'realgovt':[961.28],'cpi': [218.61],'m1': [1409.3], 'tbilrate':[1.74], 'pop':[304.483]})\n",
    "lm1.predict(X10)"
   ]
  },
  {
   "cell_type": "code",
   "execution_count": 40,
   "metadata": {},
   "outputs": [
    {
     "data": {
      "text/plain": [
       "0    3.154093\n",
       "dtype: float64"
      ]
     },
     "execution_count": 40,
     "metadata": {},
     "output_type": "execute_result"
    }
   ],
   "source": [
    "# 2008 third quarter\n",
    "X11 = pd.DataFrame({'realgdp': [13324.6], 'realinv':[1990.693], 'realgovt':[991.551],'cpi': [216.889],'m1': [1474.7], 'tbilrate':[1.17],  'pop':[305.27]})\n",
    "lm1.predict(X11)"
   ]
  },
  {
   "cell_type": "code",
   "execution_count": 41,
   "metadata": {},
   "outputs": [
    {
     "data": {
      "text/plain": [
       "0    3.913405\n",
       "dtype: float64"
      ]
     },
     "execution_count": 41,
     "metadata": {},
     "output_type": "execute_result"
    }
   ],
   "source": [
    "# 2008 fourth quarter\n",
    "X12 = pd.DataFrame({'realgdp': [13141.92], 'realinv':[1857.661], 'realgovt':[1007.273],'cpi': [212.174],'m1': [1576.5], 'tbilrate':[0.12], 'pop':[305.952]})\n",
    "lm1.predict(X12)"
   ]
  },
  {
   "cell_type": "code",
   "execution_count": 42,
   "metadata": {},
   "outputs": [
    {
     "data": {
      "text/plain": [
       "0    7.123521\n",
       "dtype: float64"
      ]
     },
     "execution_count": 42,
     "metadata": {},
     "output_type": "execute_result"
    }
   ],
   "source": [
    "# 2009 first quarter\n",
    "X13 = pd.DataFrame({'realgdp': [12925.41], 'realinv':[1558.494], 'realgovt':[996.287],'cpi': [212.671],'m1': [1592.8], 'tbilrate':[0.22], 'pop':[306.547]})\n",
    "lm1.predict(X13)"
   ]
  },
  {
   "cell_type": "code",
   "execution_count": 43,
   "metadata": {},
   "outputs": [
    {
     "data": {
      "text/plain": [
       "0    8.12451\n",
       "dtype: float64"
      ]
     },
     "execution_count": 43,
     "metadata": {},
     "output_type": "execute_result"
    }
   ],
   "source": [
    "# 2009 second quarter\n",
    "X14 = pd.DataFrame({'realgdp': [12901.504], 'realinv':[1456.678], 'realgovt':[1023.528],'cpi': [214.469],'m1': [1653.6], 'tbilrate':[0.18], 'pop':[307.226]})\n",
    "lm1.predict(X14)"
   ]
  },
  {
   "cell_type": "code",
   "execution_count": 44,
   "metadata": {},
   "outputs": [
    {
     "data": {
      "text/plain": [
       "0    7.675481\n",
       "dtype: float64"
      ]
     },
     "execution_count": 44,
     "metadata": {},
     "output_type": "execute_result"
    }
   ],
   "source": [
    "# 2009 third quarter\n",
    "X15 = pd.DataFrame({'realgdp': [12990.341], 'realinv':[1486.398], 'realgovt':[1044.088],'cpi': [216.385],'m1': [1673.9], 'tbilrate':[0.12], 'pop':[308.013]})\n",
    "lm1.predict(X15)"
   ]
  },
  {
   "cell_type": "code",
   "execution_count": 45,
   "metadata": {},
   "outputs": [
    {
     "name": "stdout",
     "output_type": "stream",
     "text": [
      "3.858478866666667\n",
      "24.514377697784067\n",
      "4.951199622089991\n"
     ]
    }
   ],
   "source": [
    "# define true and predicted response values\n",
    "y_true = [2.6, 3.97, -1.58, 3.3, 4.58, 2.75, 3.45, 6.38, 2.82, 8.53, -3.16, -8.79, 0.94, 3.37, 3.56]\n",
    "y_pred = [3.603067, 3.867434, 4.498397,  5.980303,  6.512911, 6.007894, 5.538669, 4.986202, 3.331646, 3.773078, 3.154093, 3.913405, 7.123521,  8.12451, 7.675481]\n",
    "\n",
    "# calculate MAE, MSE, RMSE\n",
    "print (metrics.mean_absolute_error(y_true, y_pred))\n",
    "print (metrics.mean_squared_error(y_true, y_pred))\n",
    "print (np.sqrt(metrics.mean_squared_error(y_true, y_pred)))"
   ]
  },
  {
   "cell_type": "markdown",
   "metadata": {},
   "source": [
    "MAE measures the average magnitude of the errors in a set of predictions. Here MAE is equal to 3.858 which is not too large. RMSE is the square root of the mean of the squared errors and is interpretable in the \"y\" units. Lower values of RMSE indicate better fit. Here, the RMSE = 4.951, which means the model can not predict inflation very accurately but is close to the actual data. "
   ]
  },
  {
   "cell_type": "code",
   "execution_count": null,
   "metadata": {},
   "outputs": [],
   "source": []
  }
 ],
 "metadata": {
  "kernelspec": {
   "display_name": "Python 3",
   "language": "python",
   "name": "python3"
  },
  "language_info": {
   "codemirror_mode": {
    "name": "ipython",
    "version": 3
   },
   "file_extension": ".py",
   "mimetype": "text/x-python",
   "name": "python",
   "nbconvert_exporter": "python",
   "pygments_lexer": "ipython3",
   "version": "3.7.6"
  }
 },
 "nbformat": 4,
 "nbformat_minor": 4
}
