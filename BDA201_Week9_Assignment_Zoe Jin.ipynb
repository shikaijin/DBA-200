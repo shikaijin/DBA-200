{
 "cells": [
  {
   "cell_type": "code",
   "execution_count": 52,
   "metadata": {},
   "outputs": [],
   "source": [
    "import pandas as pd\n",
    "import seaborn as sns\n",
    "import statsmodels.formula.api as smf\n",
    "import statsmodels.api as sm2\n",
    "import matplotlib.pyplot as plt\n",
    "from sklearn.linear_model import LinearRegression\n",
    "from sklearn import metrics \n",
    "from sklearn.model_selection  import train_test_split\n",
    "import numpy as np\n",
    "import statsmodels.api as sm\n",
    "from statsmodels.graphics.gofplots import qqplot_2samples, qqplot\n",
    "import scipy.stats as st\n",
    "import seaborn as sns\n",
    "%matplotlib inline"
   ]
  },
  {
   "cell_type": "code",
   "execution_count": 53,
   "metadata": {},
   "outputs": [
    {
     "data": {
      "text/html": [
       "<div>\n",
       "<style scoped>\n",
       "    .dataframe tbody tr th:only-of-type {\n",
       "        vertical-align: middle;\n",
       "    }\n",
       "\n",
       "    .dataframe tbody tr th {\n",
       "        vertical-align: top;\n",
       "    }\n",
       "\n",
       "    .dataframe thead th {\n",
       "        text-align: right;\n",
       "    }\n",
       "</style>\n",
       "<table border=\"1\" class=\"dataframe\">\n",
       "  <thead>\n",
       "    <tr style=\"text-align: right;\">\n",
       "      <th></th>\n",
       "      <th>Twin 1</th>\n",
       "      <th>Twin 2</th>\n",
       "    </tr>\n",
       "  </thead>\n",
       "  <tbody>\n",
       "    <tr>\n",
       "      <th>0</th>\n",
       "      <td>113</td>\n",
       "      <td>109</td>\n",
       "    </tr>\n",
       "    <tr>\n",
       "      <th>1</th>\n",
       "      <td>94</td>\n",
       "      <td>100</td>\n",
       "    </tr>\n",
       "    <tr>\n",
       "      <th>2</th>\n",
       "      <td>99</td>\n",
       "      <td>86</td>\n",
       "    </tr>\n",
       "    <tr>\n",
       "      <th>3</th>\n",
       "      <td>77</td>\n",
       "      <td>80</td>\n",
       "    </tr>\n",
       "    <tr>\n",
       "      <th>4</th>\n",
       "      <td>81</td>\n",
       "      <td>95</td>\n",
       "    </tr>\n",
       "  </tbody>\n",
       "</table>\n",
       "</div>"
      ],
      "text/plain": [
       "   Twin 1  Twin 2\n",
       "0     113     109\n",
       "1      94     100\n",
       "2      99      86\n",
       "3      77      80\n",
       "4      81      95"
      ]
     },
     "execution_count": 53,
     "metadata": {},
     "output_type": "execute_result"
    }
   ],
   "source": [
    "df= pd.read_csv('twins.csv', header=0)\n",
    "df.head()"
   ]
  },
  {
   "cell_type": "code",
   "execution_count": 54,
   "metadata": {},
   "outputs": [
    {
     "data": {
      "image/png": "[encoded data removed]",
      "text/plain": [
       "<Figure size 432x288 with 1 Axes>"
      ]
     },
     "metadata": {
      "needs_background": "light"
     },
     "output_type": "display_data"
    }
   ],
   "source": [
    "qqplot(df['Twin 1'], line ='45')\n",
    "plt.show()"
   ]
  },
  {
   "cell_type": "code",
   "execution_count": 55,
   "metadata": {},
   "outputs": [
    {
     "data": {
      "image/png": "[encoded data removed]",
      "text/plain": [
       "<Figure size 432x288 with 1 Axes>"
      ]
     },
     "metadata": {
      "needs_background": "light"
     },
     "output_type": "display_data"
    }
   ],
   "source": [
    "qqplot(df['Twin 2'], line ='45')\n",
    "plt.show()"
   ]
  },
  {
   "cell_type": "markdown",
   "metadata": {},
   "source": [
    "#### Both twin 1 and twin 2 don't form a 45 degree line so they are not normally distributed."
   ]
  },
  {
   "cell_type": "markdown",
   "metadata": {},
   "source": [
    "#### Null Hypothesis: the mean IQ of twin 1 is statistically the same as twin 2 (𝜇1=𝜇2)\n",
    "#### Alternative Hypthosis: the mean IQ of twin 1 is statistically different from twin 2 (𝜇1≠𝜇2)\n",
    "#### We should use a two-tailed test since we are checking for inequality."
   ]
  },
  {
   "cell_type": "code",
   "execution_count": 56,
   "metadata": {},
   "outputs": [],
   "source": [
    "def independent_ttest(data1, data2, alpha=0.05):\n",
    "    \"\"\"\n",
    "    Student's t-test for independent groups\n",
    "    \n",
    "    Argument:\n",
    "        data1: First group data in numpy array format\n",
    "        data2: Second group two data in numpy array format\n",
    "        alpha: Significance level\n",
    "    \n",
    "    Returns:\n",
    "        t_stat: Computed t-statistic\n",
    "        df: Degrees of freedom\n",
    "        cv: Critical value\n",
    "        p: p-value (of NULL hypothesis)\n",
    "    \"\"\"\n",
    "    import scipy.stats as st\n",
    "    # calculate means\n",
    "    mean1, mean2 = np.mean(data1), np.mean(data2)\n",
    "    # calculate standard errors\n",
    "    se1, se2 = st.sem(data1), st.sem(data2)\n",
    "    # standard error on the difference between the samples\n",
    "    sed = np.sqrt(se1**2.0 + se2**2.0)\n",
    "    # calculate the t statistic\n",
    "    t_stat = (mean1 - mean2) / sed\n",
    "    # degrees of freedom\n",
    "    df = len(data1) + len(data2) - 2\n",
    "    # calculate the critical value\n",
    "    cv = st.t.ppf(1.0 - alpha, df)\n",
    "    # calculate the p-value\n",
    "    p = (1.0 - st.t.cdf(abs(t_stat), df)) * 2.0\n",
    "    # return everything\n",
    "    return t_stat, df, cv, p"
   ]
  },
  {
   "cell_type": "code",
   "execution_count": 57,
   "metadata": {},
   "outputs": [
    {
     "name": "stdout",
     "output_type": "stream",
     "text": [
      "t=-0.800, df=62, cv=1.670, p=0.427\n",
      "\n",
      "Fail to reject null hypothesis that the means are equal.\n",
      "Fail to reject null hypothesis that the means are equal.\n"
     ]
    }
   ],
   "source": [
    "n_sample = 32\n",
    "# calculate the t test\n",
    "alpha = 0.05\n",
    "data1=df['Twin 1']\n",
    "data2=df['Twin 2']\n",
    "t_stat, df, cv, p = independent_ttest(data1, data2, alpha)\n",
    "print('t=%.3f, df=%d, cv=%.3f, p=%.3f' % (t_stat, df, cv, p))\n",
    "print()\n",
    "\n",
    "# interpret via critical value\n",
    "if abs(t_stat) <= cv:\n",
    "    print('Fail to reject null hypothesis that the means are equal.')\n",
    "else:\n",
    "    print('Reject the null hypothesis that the means are equal.')\n",
    "# interpret via p-value\n",
    "if p > alpha:\n",
    "    print('Fail to reject null hypothesis that the means are equal.')\n",
    "else:\n",
    "    print('Reject the null hypothesis that the means are equal.')"
   ]
  },
  {
   "cell_type": "markdown",
   "metadata": {},
   "source": [
    "The t-value is -0.8. The p-value is 0.427. The result is not significant at p < 0.05. The mean IQ of twin 1 is statistically the same as twin 2."
   ]
  },
  {
   "cell_type": "markdown",
   "metadata": {},
   "source": [
    "The t-value is -0.8. The p-value is 0.427. The result is not significant at p < 0.01. The mean IQ of twin 1 is statistically the same as twin 2."
   ]
  },
  {
   "cell_type": "markdown",
   "metadata": {},
   "source": [
    "Different parenting styles and family environment have not much effect on the expected IQ level."
   ]
  },
  {
   "cell_type": "markdown",
   "metadata": {},
   "source": [
    "#### Null Hypothesis: the mean corn yield of regular seed is statistically the same as kiln-dried seed (𝜇1=𝜇2)\n",
    "#### Alternative Hypthosis: the mean corn yield  of regular seed is statistically different from kiln-dried seed (𝜇1≠𝜇2)"
   ]
  },
  {
   "cell_type": "code",
   "execution_count": 58,
   "metadata": {},
   "outputs": [
    {
     "data": {
      "text/html": [
       "<div>\n",
       "<style scoped>\n",
       "    .dataframe tbody tr th:only-of-type {\n",
       "        vertical-align: middle;\n",
       "    }\n",
       "\n",
       "    .dataframe tbody tr th {\n",
       "        vertical-align: top;\n",
       "    }\n",
       "\n",
       "    .dataframe thead th {\n",
       "        text-align: right;\n",
       "    }\n",
       "</style>\n",
       "<table border=\"1\" class=\"dataframe\">\n",
       "  <thead>\n",
       "    <tr style=\"text-align: right;\">\n",
       "      <th></th>\n",
       "      <th>Regular seed</th>\n",
       "      <th>Kiln-dried seed</th>\n",
       "    </tr>\n",
       "  </thead>\n",
       "  <tbody>\n",
       "    <tr>\n",
       "      <th>0</th>\n",
       "      <td>1903</td>\n",
       "      <td>2009</td>\n",
       "    </tr>\n",
       "    <tr>\n",
       "      <th>1</th>\n",
       "      <td>1935</td>\n",
       "      <td>1915</td>\n",
       "    </tr>\n",
       "    <tr>\n",
       "      <th>2</th>\n",
       "      <td>1910</td>\n",
       "      <td>2011</td>\n",
       "    </tr>\n",
       "    <tr>\n",
       "      <th>3</th>\n",
       "      <td>2496</td>\n",
       "      <td>2463</td>\n",
       "    </tr>\n",
       "    <tr>\n",
       "      <th>4</th>\n",
       "      <td>2108</td>\n",
       "      <td>2180</td>\n",
       "    </tr>\n",
       "  </tbody>\n",
       "</table>\n",
       "</div>"
      ],
      "text/plain": [
       "   Regular seed  Kiln-dried seed\n",
       "0          1903             2009\n",
       "1          1935             1915\n",
       "2          1910             2011\n",
       "3          2496             2463\n",
       "4          2108             2180"
      ]
     },
     "execution_count": 58,
     "metadata": {},
     "output_type": "execute_result"
    }
   ],
   "source": [
    "f= pd.read_csv('seeds.csv', header=0)\n",
    "f.head()"
   ]
  },
  {
   "cell_type": "code",
   "execution_count": 59,
   "metadata": {},
   "outputs": [],
   "source": [
    "def independent_ttest(data1, data2, alpha=0.05):\n",
    "    \"\"\"\n",
    "    Student's t-test for independent groups\n",
    "    \n",
    "    Argument:\n",
    "        data1: First group data in numpy array format\n",
    "        data2: Second group two data in numpy array format\n",
    "        alpha: Significance level\n",
    "    \n",
    "    Returns:\n",
    "        t_stat: Computed t-statistic\n",
    "        df: Degrees of freedom\n",
    "        cv: Critical value\n",
    "        p: p-value (of NULL hypothesis)\n",
    "    \"\"\"\n",
    "    import scipy.stats as st\n",
    "    # calculate means\n",
    "    mean1, mean2 = np.mean(data1), np.mean(data2)\n",
    "    # calculate standard errors\n",
    "    se1, se2 = st.sem(data1), st.sem(data2)\n",
    "    # standard error on the difference between the samples\n",
    "    sed = np.sqrt(se1**2.0 + se2**2.0)\n",
    "    # calculate the t statistic\n",
    "    t_stat = (mean1 - mean2) / sed\n",
    "    # degrees of freedom\n",
    "    df = len(data1) + len(data2) - 2\n",
    "    # calculate the critical value\n",
    "    cv = st.t.ppf(1.0 - alpha, df)\n",
    "    # calculate the p-value\n",
    "    p = (1.0 - st.t.cdf(abs(t_stat), df)) * 2.0\n",
    "    # return everything\n",
    "    return t_stat, df, cv, p"
   ]
  },
  {
   "cell_type": "code",
   "execution_count": 60,
   "metadata": {},
   "outputs": [
    {
     "name": "stdout",
     "output_type": "stream",
     "text": [
      "t=-0.234, df=20, cv=1.725, p=0.817\n",
      "\n",
      "Fail to reject null hypothesis that the means are equal.\n",
      "Fail to reject null hypothesis that the means are equal.\n"
     ]
    }
   ],
   "source": [
    "n_sample = 11\n",
    "# calculate the t test\n",
    "alpha = 0.05\n",
    "data1=f['Regular seed']\n",
    "data2=f['Kiln-dried seed']\n",
    "t_stat, df, cv, p = independent_ttest(data1, data2, alpha)\n",
    "print('t=%.3f, df=%d, cv=%.3f, p=%.3f' % (t_stat, df, cv, p))\n",
    "print()\n",
    "\n",
    "# interpret via critical value\n",
    "if abs(t_stat) <= cv:\n",
    "    print('Fail to reject null hypothesis that the means are equal.')\n",
    "else:\n",
    "    print('Reject the null hypothesis that the means are equal.')\n",
    "# interpret via p-value\n",
    "if p > alpha:\n",
    "    print('Fail to reject null hypothesis that the means are equal.')\n",
    "else:\n",
    "    print('Reject the null hypothesis that the means are equal.')"
   ]
  },
  {
   "cell_type": "markdown",
   "metadata": {},
   "source": [
    "The t-value is -0.234. The p-value is 0.817. The result is not significant at p < 0.05. The mean corn yield of regular seed is statistically the same as kiln-dried seed."
   ]
  },
  {
   "cell_type": "code",
   "execution_count": null,
   "metadata": {},
   "outputs": [],
   "source": []
  }
 ],
 "metadata": {
  "kernelspec": {
   "display_name": "Python 3",
   "language": "python",
   "name": "python3"
  },
  "language_info": {
   "codemirror_mode": {
    "name": "ipython",
    "version": 3
   },
   "file_extension": ".py",
   "mimetype": "text/x-python",
   "name": "python",
   "nbconvert_exporter": "python",
   "pygments_lexer": "ipython3",
   "version": "3.7.6"
  }
 },
 "nbformat": 4,
 "nbformat_minor": 4
}
